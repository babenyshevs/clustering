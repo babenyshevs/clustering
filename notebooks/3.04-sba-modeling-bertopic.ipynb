{
 "cells": [
  {
   "cell_type": "code",
   "execution_count": 2,
   "metadata": {},
   "outputs": [],
   "source": [
    "%load_ext autoreload\n",
    "%autoreload 2"
   ]
  },
  {
   "cell_type": "markdown",
   "metadata": {},
   "source": [
    "# IMPORTS"
   ]
  },
  {
   "cell_type": "code",
   "execution_count": 3,
   "metadata": {},
   "outputs": [],
   "source": [
    "# data\n",
    "import pandas as pd\n",
    "\n",
    "from bertopic import BERTopic\n",
    "from sentence_transformers import SentenceTransformer\n",
    "from hdbscan import HDBSCAN\n",
    "\n",
    "# src\n",
    "from src.general.io import to_pickle, from_pickle\n",
    "from src.general.io import disable_warnings"
   ]
  },
  {
   "cell_type": "code",
   "execution_count": 4,
   "metadata": {},
   "outputs": [],
   "source": [
    "disable_warnings()"
   ]
  },
  {
   "cell_type": "markdown",
   "metadata": {},
   "source": [
    "# PATHS & NAMES"
   ]
  },
  {
   "cell_type": "code",
   "execution_count": 11,
   "metadata": {},
   "outputs": [],
   "source": [
    "PROCESSED_FOLDER = \"../data/processed\"\n",
    "INTERIM_FOLDER = \"../data/interim\"\n",
    "REPORT_FOLDER = \"../reports/bertopic\"\n",
    "MODELS_FOLDER = \"../models\"\n",
    "\n",
    "PROCESSED_FILENAME = \"features.pkl\"\n",
    "PROCESSED_FILEPATH = f\"{PROCESSED_FOLDER}/{PROCESSED_FILENAME}\"\n",
    "\n",
    "SPACY_TOKENIZED_FILENAME = \"feedback_docs.pkl\"\n",
    "RASA_DOCS_FILENAME = \"rasa_docs.pkl\"\n",
    "RASA_EMBEDINGS_FILENAME = \"rasa_embedings.pkl\"\n",
    "SPACY_TOKENIZED_FILEPATH = f\"{INTERIM_FOLDER}/{SPACY_TOKENIZED_FILENAME}\"\n",
    "RASA_DOCS_FILEPATH = f\"{INTERIM_FOLDER}/{RASA_DOCS_FILENAME}\"\n",
    "RASA_EMBEDINGS_FILEPATH = f\"{INTERIM_FOLDER}/{RASA_EMBEDINGS_FILENAME}\"\n",
    "\n",
    "SBERT_PATH = f\"{MODELS_FOLDER}/sbert\"\n",
    "FIT_BERTOPIC_PATH = f\"{MODELS_FOLDER}/bertopic\"\n",
    "\n",
    "SEED = 42\n",
    "N_TOPICS = 20"
   ]
  },
  {
   "cell_type": "markdown",
   "metadata": {},
   "source": [
    "# DATA"
   ]
  },
  {
   "cell_type": "code",
   "execution_count": 6,
   "metadata": {},
   "outputs": [],
   "source": [
    "docs = from_pickle(RASA_DOCS_FILEPATH)"
   ]
  },
  {
   "cell_type": "markdown",
   "metadata": {},
   "source": [
    "# Topic modelling"
   ]
  },
  {
   "cell_type": "markdown",
   "metadata": {},
   "source": [
    "## BERTopic"
   ]
  },
  {
   "cell_type": "markdown",
   "metadata": {},
   "source": [
    "this model needs **at least 1000 datapoints**. Here presented just for future use."
   ]
  },
  {
   "cell_type": "code",
   "execution_count": 7,
   "metadata": {},
   "outputs": [],
   "source": [
    "# Embedding model:\n",
    "embedding_model = SentenceTransformer(SBERT_PATH) # \"all-MiniLM-L6-v2\"\n",
    "\n",
    "# Clustering model:\n",
    "cluster_model = HDBSCAN(min_cluster_size = 10, \n",
    "                        metric = 'euclidean', \n",
    "                        cluster_selection_method = 'eom', \n",
    "                        prediction_data = True)\n",
    "\n",
    "# BERTopic model\n",
    "topic_model = BERTopic(embedding_model = embedding_model,\n",
    "                       hdbscan_model = cluster_model)"
   ]
  },
  {
   "cell_type": "code",
   "execution_count": 8,
   "metadata": {},
   "outputs": [
    {
     "data": {
      "text/plain": [
       "<bertopic._bertopic.BERTopic at 0x1a1b6b0d300>"
      ]
     },
     "execution_count": 8,
     "metadata": {},
     "output_type": "execute_result"
    }
   ],
   "source": [
    "# Fit the model on a corpus\n",
    "try:\n",
    "    topic_model = from_pickle(FIT_BERTOPIC_PATH)\n",
    "except FileNotFoundError:    \n",
    "    topic_model.fit(docs)\n",
    "    to_pickle(topic_model, FIT_BERTOPIC_PATH)"
   ]
  },
  {
   "cell_type": "code",
   "execution_count": 9,
   "metadata": {},
   "outputs": [
    {
     "data": {
      "text/plain": [
       "-1      495\n",
       " 0      155\n",
       " 1      106\n",
       " 2      105\n",
       " 3      102\n",
       "       ... \n",
       " 254     11\n",
       " 255     11\n",
       " 256     11\n",
       " 257     11\n",
       " 258     10\n",
       "Name: topics, Length: 260, dtype: int64"
      ]
     },
     "execution_count": 9,
     "metadata": {},
     "output_type": "execute_result"
    }
   ],
   "source": [
    "topics, probs = topic_model.transform(docs)\n",
    "pd.DataFrame({\"topics\":topics, \"probs\":probs})[\"topics\"].value_counts()"
   ]
  },
  {
   "cell_type": "code",
   "execution_count": 12,
   "metadata": {},
   "outputs": [],
   "source": [
    "# Visualization examples:\n",
    "# Save intertopic distance map as HTML file\n",
    "topic_model.visualize_topics().write_html(f\"{REPORT_FOLDER}/intertopic_dist_map.html\")\n",
    "\n",
    "# Save topic-terms barcharts as HTML file\n",
    "topic_model.visualize_barchart(top_n_topics = 25).write_html(f\"{REPORT_FOLDER}/barchart.html\")\n",
    "\n",
    "# Save documents projection as HTML file\n",
    "topic_model.visualize_documents(docs).write_html(f\"{REPORT_FOLDER}/projections.html\")\n",
    "\n",
    "# Save topics dendrogram as HTML file\n",
    "topic_model.visualize_hierarchy().write_html(f\"{REPORT_FOLDER}/hieararchy.html\")"
   ]
  },
  {
   "cell_type": "code",
   "execution_count": 13,
   "metadata": {},
   "outputs": [
    {
     "data": {
      "text/plain": [
       "True"
      ]
     },
     "execution_count": 13,
     "metadata": {},
     "output_type": "execute_result"
    }
   ],
   "source": []
  }
 ],
 "metadata": {
  "kernelspec": {
   "display_name": ".venv",
   "language": "python",
   "name": "python3"
  },
  "language_info": {
   "codemirror_mode": {
    "name": "ipython",
    "version": 3
   },
   "file_extension": ".py",
   "mimetype": "text/x-python",
   "name": "python",
   "nbconvert_exporter": "python",
   "pygments_lexer": "ipython3",
   "version": "3.10.9"
  }
 },
 "nbformat": 4,
 "nbformat_minor": 2
}
